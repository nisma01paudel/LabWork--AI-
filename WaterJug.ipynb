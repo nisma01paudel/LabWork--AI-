{
  "nbformat": 4,
  "nbformat_minor": 0,
  "metadata": {
    "colab": {
      "provenance": [],
      "include_colab_link": true
    },
    "kernelspec": {
      "name": "python3",
      "display_name": "Python 3"
    },
    "language_info": {
      "name": "python"
    }
  },
  "cells": [
    {
      "cell_type": "markdown",
      "metadata": {
        "id": "view-in-github",
        "colab_type": "text"
      },
      "source": [
        "<a href=\"https://colab.research.google.com/github/nisma01paudel/LabWork-AI/blob/master/WaterJug.ipynb\" target=\"_parent\"><img src=\"https://colab.research.google.com/assets/colab-badge.svg\" alt=\"Open In Colab\"/></a>"
      ]
    },
    {
      "cell_type": "code",
      "execution_count": 7,
      "metadata": {
        "id": "K17SDd2qftoB",
        "colab": {
          "base_uri": "https://localhost:8080/"
        },
        "outputId": "bbbcd3ec-a8b3-4770-954b-6cbaecf98933"
      },
      "outputs": [
        {
          "output_type": "stream",
          "name": "stdout",
          "text": [
            "Solution path:\n",
            "(0, 0)\n",
            "(0, 3)\n",
            "(3, 0)\n",
            "(3, 3)\n",
            "(4, 2)\n",
            "(0, 2)\n",
            "(2, 0)\n"
          ]
        }
      ],
      "source": [
        "from collections import deque\n",
        "\n",
        "# Define the possible actions (state transitions)\n",
        "def successors(state):\n",
        "    X, Y = state\n",
        "    succ = []\n",
        "\n",
        "    # Action 1: Fill Jug X\n",
        "    if X < 4:\n",
        "        succ.append((4, Y))\n",
        "\n",
        "    # Action 2: Fill Jug Y\n",
        "    if Y < 3:\n",
        "        succ.append((X, 3))\n",
        "\n",
        "    # Action 3: Empty Jug X\n",
        "    if X > 0:\n",
        "        succ.append((0, Y))\n",
        "\n",
        "    # Action 4: Empty Jug Y\n",
        "    if Y > 0:\n",
        "        succ.append((X, 0))\n",
        "\n",
        "    # Action 5: Pour from X to Y\n",
        "    if X > 0 and Y < 3:\n",
        "        transfer = min(X, 3 - Y)\n",
        "        succ.append((X - transfer, Y + transfer))\n",
        "\n",
        "    # Action 6: Pour from Y to X\n",
        "    if Y > 0 and X < 4:\n",
        "        transfer = min(Y, 4 - X)\n",
        "        succ.append((X + transfer, Y - transfer))\n",
        "\n",
        "    return succ\n",
        "\n",
        "# BFS algorithm\n",
        "def bfs(initial_state, goal_state):\n",
        "    OPEN = deque([initial_state])  # Queue of states to explore\n",
        "    CLOSED = set()  # Set of explored states\n",
        "    parent_map = {initial_state: None}  # To reconstruct the path\n",
        "\n",
        "    while OPEN:\n",
        "        # Step 1: Pop from OPEN and add it to CLOSED\n",
        "        current_state = OPEN.popleft()\n",
        "        CLOSED.add(current_state)\n",
        "\n",
        "        # Step 2: Goal test\n",
        "        if current_state == goal_state:\n",
        "            # Goal found, reconstruct path\n",
        "            path = []\n",
        "            while current_state is not None:\n",
        "                path.append(current_state)\n",
        "                current_state = parent_map[current_state]\n",
        "            return path[::-1]  # Return reversed path\n",
        "\n",
        "        # Step 3: Generate successors and add to OPEN if not in OPEN or CLOSED\n",
        "        for succ in successors(current_state):\n",
        "            if succ not in CLOSED and succ not in OPEN:\n",
        "                OPEN.append(succ)\n",
        "                parent_map[succ] = current_state\n",
        "\n",
        "    # Step 5: Return None if goal is not found\n",
        "    return None\n",
        "\n",
        "# Define the initial and goal states\n",
        "initial_state = (0, 0)  # Initial state: (0, 0)\n",
        "goal_state = (2, 0)  # Goal state: (2, 0)\n",
        "\n",
        "# Run BFS to find the solution\n",
        "solution = bfs(initial_state, goal_state)\n",
        "\n",
        "# Output the solution\n",
        "if solution:\n",
        "    print(\"Solution path:\")\n",
        "    for step in solution:\n",
        "        print(step)\n",
        "else:\n",
        "    print(\"No solution found\")\n"
      ]
    },
    {
      "cell_type": "code",
      "source": [
        "from collections import deque\n",
        "class WaterJug:\n",
        "  def __init__(self,initial_state=(0,0),goal_state=(2,0)):\n",
        "    # Define the initial and goal states\n",
        "    initial_state = initial_state  # Initial state: (0, 0)\n",
        "    goal_state = goal_state  # Goal state: (2, 0)\n",
        "    # Define the possible actions (state transitions)\n",
        "\n",
        "  def successors(self, state):\n",
        "      X, Y = state\n",
        "      succ = []\n",
        "\n",
        "      # Action 1: Fill Jug X\n",
        "      if X < 4:\n",
        "          succ.append((4, Y))\n",
        "\n",
        "      # Action 2: Fill Jug Y\n",
        "      if Y < 3:\n",
        "          succ.append((X, 3))\n",
        "\n",
        "      # Action 3: Empty Jug X\n",
        "      if X > 0:\n",
        "          succ.append((0, Y))\n",
        "\n",
        "      # Action 4: Empty Jug Y\n",
        "      if Y > 0:\n",
        "          succ.append((X, 0))\n",
        "\n",
        "      # Action 5: Pour from X to Y\n",
        "      if X > 0 and Y < 3:\n",
        "          transfer = min(X, 3 - Y)\n",
        "          succ.append((X - transfer, Y + transfer))\n",
        "\n",
        "      # Action 6: Pour from Y to X\n",
        "      if Y > 0 and X < 4:\n",
        "          transfer = min(Y, 4 - X)\n",
        "          succ.append((X + transfer, Y - transfer))\n",
        "\n",
        "      return succ\n",
        "\n",
        "  def run(self):\n",
        "    # Run BFS to find the solution\n",
        "    initial_state = (0,0)\n",
        "    succ= successors(initial_state)\n",
        "    print('Child notes: ',succ)\n",
        "\n",
        "sol = WaterJug()\n",
        "sol.run()\n"
      ],
      "metadata": {
        "colab": {
          "base_uri": "https://localhost:8080/"
        },
        "id": "y13Kr2jMUzAx",
        "outputId": "876e891b-a9eb-4487-d784-a9515c2e4b2a"
      },
      "execution_count": 8,
      "outputs": [
        {
          "output_type": "stream",
          "name": "stdout",
          "text": [
            "Child notes:  [(4, 0), (0, 3)]\n"
          ]
        }
      ]
    }
  ]
}