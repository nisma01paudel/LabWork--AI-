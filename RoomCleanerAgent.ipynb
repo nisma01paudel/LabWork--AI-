{
  "nbformat": 4,
  "nbformat_minor": 0,
  "metadata": {
    "colab": {
      "provenance": [],
      "authorship_tag": "ABX9TyM+LgMf316eKxzBr7xeMPZV",
      "include_colab_link": true
    },
    "kernelspec": {
      "name": "python3",
      "display_name": "Python 3"
    },
    "language_info": {
      "name": "python"
    }
  },
  "cells": [
    {
      "cell_type": "markdown",
      "metadata": {
        "id": "view-in-github",
        "colab_type": "text"
      },
      "source": [
        "<a href=\"https://colab.research.google.com/github/nisma01paudel/LabWork--AI-/blob/master/RoomCleanerAgent.ipynb\" target=\"_parent\"><img src=\"https://colab.research.google.com/assets/colab-badge.svg\" alt=\"Open In Colab\"/></a>"
      ]
    },
    {
      "cell_type": "code",
      "source": [
        "import random\n",
        "\n",
        "class RoomCleanerAgent:\n",
        "    def __init__(self, room_size=(10, 10)):\n",
        "        self.room_size = room_size\n",
        "        self.grid = [[random.choice([0, 1]) for _ in range(room_size[1])] for _ in range(room_size[0])]\n",
        "        self.current_position = (random.randint(0, room_size[0] - 1), random.randint(0, room_size[1] - 1))\n",
        "\n",
        "    def display_room(self):\n",
        "        for row in self.grid:\n",
        "            for cell in row:\n",
        "                print(str(cell), end=\" \")\n",
        "            print(\"\\n\")  # Moved this outside the inner loop to print a new line after each row\n",
        "\n",
        "    def run(self):\n",
        "        print(\"Initial Room Status:\")\n",
        "        self.display_room()\n",
        "\n",
        "# Create an instance of RoomCleanerAgent and run it\n",
        "agent = RoomCleanerAgent()\n",
        "agent.run()"
      ],
      "metadata": {
        "colab": {
          "base_uri": "https://localhost:8080/"
        },
        "id": "HJZB1JD7RpaQ",
        "outputId": "0f0790a3-d91e-41b1-d7d8-78bd903a6f4d"
      },
      "execution_count": null,
      "outputs": [
        {
          "output_type": "stream",
          "name": "stdout",
          "text": [
            "Initial Room Status:\n",
            "0 0 0 1 0 0 0 0 1 1 \n",
            "\n",
            "1 1 0 0 1 0 0 0 0 0 \n",
            "\n",
            "0 0 0 1 1 1 1 1 0 0 \n",
            "\n",
            "0 1 1 1 0 0 1 1 0 0 \n",
            "\n",
            "0 0 0 1 0 0 1 0 0 0 \n",
            "\n",
            "0 1 0 1 0 0 0 0 0 1 \n",
            "\n",
            "1 1 1 1 0 1 1 0 0 0 \n",
            "\n",
            "0 1 1 1 0 1 1 1 1 1 \n",
            "\n",
            "1 0 0 1 0 1 1 0 1 0 \n",
            "\n",
            "1 1 0 1 0 1 0 0 1 0 \n",
            "\n"
          ]
        }
      ]
    }
  ]
}